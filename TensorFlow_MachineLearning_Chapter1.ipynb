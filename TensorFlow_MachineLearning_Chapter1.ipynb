{
  "nbformat": 4,
  "nbformat_minor": 0,
  "metadata": {
    "colab": {
      "name": "TensorFlow_MachineLearning_Chapter1.ipynb",
      "version": "0.3.2",
      "provenance": [],
      "collapsed_sections": [],
      "include_colab_link": true
    },
    "kernelspec": {
      "name": "python3",
      "display_name": "Python 3"
    }
  },
  "cells": [
    {
      "cell_type": "markdown",
      "metadata": {
        "id": "view-in-github",
        "colab_type": "text"
      },
      "source": [
        "[View in Colaboratory](https://colab.research.google.com/github/tanthanadon/TensorFlow_Beginner/blob/master/TensorFlow_MachineLearning_Chapter1.ipynb)"
      ]
    },
    {
      "metadata": {
        "id": "7FzEUpwFRbMt",
        "colab_type": "text"
      },
      "cell_type": "markdown",
      "source": [
        "# **Declaring Tensors**"
      ]
    },
    {
      "metadata": {
        "id": "sDgY8FHRThFL",
        "colab_type": "text"
      },
      "cell_type": "markdown",
      "source": [
        "### Fixed tensors"
      ]
    },
    {
      "metadata": {
        "id": "8cPwLZpsUNu5",
        "colab_type": "code",
        "colab": {}
      },
      "cell_type": "code",
      "source": [
        "import tensorflow as tf\n",
        "import numpy as np\n",
        "row_dim = 3\n",
        "col_dim = 3"
      ],
      "execution_count": 0,
      "outputs": []
    },
    {
      "metadata": {
        "id": "idGLcAVzTfHr",
        "colab_type": "code",
        "colab": {}
      },
      "cell_type": "code",
      "source": [
        "# Create a zero filled tensor\n",
        "zero_tsr = tf.zeros([row_dim, col_dim])\n",
        "# Create one filed tensor\n",
        "ones_tsr = tf.ones([row_dim, col_dim])\n",
        "# Create a constant filled tensor\n",
        "constant_tsr = tf.constant([1, 2, 3])"
      ],
      "execution_count": 0,
      "outputs": []
    },
    {
      "metadata": {
        "id": "XjBCea3WVnkl",
        "colab_type": "text"
      },
      "cell_type": "markdown",
      "source": [
        "### Tensors of similar shape"
      ]
    },
    {
      "metadata": {
        "id": "FsUWLbavV90i",
        "colab_type": "code",
        "colab": {}
      },
      "cell_type": "code",
      "source": [
        "zeros_similar = tf.zeros_like(constant_tsr)\n",
        "ones_similar = tf.ones_like(constant_tsr)"
      ],
      "execution_count": 0,
      "outputs": []
    },
    {
      "metadata": {
        "id": "GNqKJgPyWNhi",
        "colab_type": "text"
      },
      "cell_type": "markdown",
      "source": [
        "### Sequence tensors"
      ]
    },
    {
      "metadata": {
        "id": "ey14KBgzWXPr",
        "colab_type": "code",
        "colab": {}
      },
      "cell_type": "code",
      "source": [
        "# Define intervals with linspace()\n",
        "linear_tsr = tf.linspace(start=0.0, stop=1.0, num=3)\n",
        "# Sequence in range()\n",
        "integer_seq_tsr = tf.range(start=6, limit=15, delta=3)"
      ],
      "execution_count": 0,
      "outputs": []
    },
    {
      "metadata": {
        "id": "DiCDMahQXuyu",
        "colab_type": "text"
      },
      "cell_type": "markdown",
      "source": [
        "### Random Tensors"
      ]
    },
    {
      "metadata": {
        "id": "PZoRGqVvXuPb",
        "colab_type": "code",
        "colab": {}
      },
      "cell_type": "code",
      "source": [
        "# Random numbers from a uniform distribution\n",
        "randunif_tsr = tf.random_uniform([row_dim, col_dim], minval=0, maxval=1)\n",
        "# Random numbers from a normal distribution\n",
        "randnorm_tsr = tf.random_normal([row_dim, col_dim], mean=0.0, stddev=1.0)\n",
        "# Random numbers from two standard deviations of the specified mean\n",
        "runcnorm_tsr = tf.truncated_normal([row_dim, col_dim], mean=0.0, stddev=1.0)\n",
        "# Random numbers from entries of arrays\n",
        "##shuffled_output = tf.random_shuffle(input_tensor)\n",
        "##copped_output = tf.random_crop(input_tensor, crop_size)"
      ],
      "execution_count": 0,
      "outputs": []
    },
    {
      "metadata": {
        "id": "fckUZ32caWDL",
        "colab_type": "text"
      },
      "cell_type": "markdown",
      "source": [
        "# Using Placeholders and Variables"
      ]
    },
    {
      "metadata": {
        "id": "tXVlSNIYaoXF",
        "colab_type": "text"
      },
      "cell_type": "markdown",
      "source": [
        "### How to do it"
      ]
    },
    {
      "metadata": {
        "id": "2iXqe2PmarWU",
        "colab_type": "code",
        "colab": {}
      },
      "cell_type": "code",
      "source": [
        "\n",
        "my_var = tf.Variable(tf.zeros([2,3]))\n",
        "sess = tf.Session()\n",
        "initialize_op = tf.global_variables_initializer ()\n",
        "sess.run(initialize_op)"
      ],
      "execution_count": 0,
      "outputs": []
    },
    {
      "metadata": {
        "id": "KE1VhqbNb568",
        "colab_type": "code",
        "colab": {}
      },
      "cell_type": "code",
      "source": [
        "sees = tf.Session()\n",
        "x = tf.placeholder(tf.float32, shape=[2,2])\n",
        "y = tf.identity(x)\n",
        "x_vals = np.random.rand(2,2)\n",
        "sees.run(y, feed_dict={x: x_vals})\n",
        "# Note that sees.run(x, feed_dict={x: x_vals}) will result in a self referencing error\n",
        "# There's more\n",
        "# Create an operation in the graph that initializes all the variables we have\n",
        "initializer_op = tf.global_variables_initializer ()\n",
        "sess = tf.Session()\n",
        "first_var = tf.Variable(tf.zeros([2,3]))\n",
        "second_var = tf.Variable(tf.zeros_like(first_var))\n",
        "# Depends on first_var\n",
        "sess.run(second_var.initializer)"
      ],
      "execution_count": 0,
      "outputs": []
    },
    {
      "metadata": {
        "id": "j27A72Gtd9n0",
        "colab_type": "text"
      },
      "cell_type": "markdown",
      "source": [
        "# Working with Matrix"
      ]
    },
    {
      "metadata": {
        "id": "fgTvRI6TeV9d",
        "colab_type": "code",
        "colab": {}
      },
      "cell_type": "code",
      "source": [
        "import tensorflow as tf\n",
        "# To launch the graph in a session\n",
        "sess = tf.Session()"
      ],
      "execution_count": 0,
      "outputs": []
    },
    {
      "metadata": {
        "id": "Aga3xJMGepdM",
        "colab_type": "text"
      },
      "cell_type": "markdown",
      "source": [
        "### Creating matrix"
      ]
    },
    {
      "metadata": {
        "id": "l9eMclDeeu-s",
        "colab_type": "code",
        "colab": {
          "base_uri": "https://localhost:8080/",
          "height": 71
        },
        "outputId": "be50a85e-0130-4603-c4ed-8a73774ede7e"
      },
      "cell_type": "code",
      "source": [
        "identity_matrix = tf.diag([1.0, 1.0, 1.0])\n",
        "A = tf.truncated_normal([2, 3])\n",
        "B = tf.fill([2,3], 5.0)\n",
        "C = tf.random_uniform([3,2])\n",
        "D = tf.convert_to_tensor(np.array([[1., 2., 3.],[-3., -7., -1.],[0., 5., -2.]]))\n",
        "print(sess.run(identity_matrix))"
      ],
      "execution_count": 91,
      "outputs": [
        {
          "output_type": "stream",
          "text": [
            "[[1. 0. 0.]\n",
            " [0. 1. 0.]\n",
            " [0. 0. 1.]]\n"
          ],
          "name": "stdout"
        }
      ]
    },
    {
      "metadata": {
        "id": "wdhI_SIvfYR-",
        "colab_type": "code",
        "colab": {
          "base_uri": "https://localhost:8080/",
          "height": 53
        },
        "outputId": "a99b98df-8bb6-444b-9fed-be9b46075ba9"
      },
      "cell_type": "code",
      "source": [
        "print(sess.run(A))"
      ],
      "execution_count": 93,
      "outputs": [
        {
          "output_type": "stream",
          "text": [
            "[[ 0.460683   -1.2345217  -0.00973095]\n",
            " [-1.3073646  -0.692911   -0.2369066 ]]\n"
          ],
          "name": "stdout"
        }
      ]
    },
    {
      "metadata": {
        "id": "SwYJarflfbgl",
        "colab_type": "code",
        "colab": {
          "base_uri": "https://localhost:8080/",
          "height": 53
        },
        "outputId": "840b8be4-28fc-4177-c233-6754eaaef088"
      },
      "cell_type": "code",
      "source": [
        "print(sess.run(B))"
      ],
      "execution_count": 94,
      "outputs": [
        {
          "output_type": "stream",
          "text": [
            "[[5. 5. 5.]\n",
            " [5. 5. 5.]]\n"
          ],
          "name": "stdout"
        }
      ]
    },
    {
      "metadata": {
        "id": "UOsITgvNfe1W",
        "colab_type": "code",
        "colab": {
          "base_uri": "https://localhost:8080/",
          "height": 71
        },
        "outputId": "9a4b9d7b-e918-4613-dabf-5e1b413a141f"
      },
      "cell_type": "code",
      "source": [
        "print(sess.run(C))"
      ],
      "execution_count": 96,
      "outputs": [
        {
          "output_type": "stream",
          "text": [
            "[[0.01556957 0.81581295]\n",
            " [0.78334856 0.95753264]\n",
            " [0.57781315 0.8711661 ]]\n"
          ],
          "name": "stdout"
        }
      ]
    },
    {
      "metadata": {
        "id": "n2swv3unfnqt",
        "colab_type": "code",
        "colab": {
          "base_uri": "https://localhost:8080/",
          "height": 71
        },
        "outputId": "0b9ae737-aab5-4e92-c232-61a162c08f94"
      },
      "cell_type": "code",
      "source": [
        "print(sess.run(D))"
      ],
      "execution_count": 97,
      "outputs": [
        {
          "output_type": "stream",
          "text": [
            "[[ 1.  2.  3.]\n",
            " [-3. -7. -1.]\n",
            " [ 0.  5. -2.]]\n"
          ],
          "name": "stdout"
        }
      ]
    },
    {
      "metadata": {
        "id": "O_SdU0FVftz9",
        "colab_type": "text"
      },
      "cell_type": "markdown",
      "source": [
        "### Addition and Subtraction"
      ]
    },
    {
      "metadata": {
        "id": "6UF0cpo_fytF",
        "colab_type": "code",
        "colab": {
          "base_uri": "https://localhost:8080/",
          "height": 53
        },
        "outputId": "0d0b23fb-19ad-404c-a55a-445c45c114dd"
      },
      "cell_type": "code",
      "source": [
        "print(sees.run(A+B))"
      ],
      "execution_count": 98,
      "outputs": [
        {
          "output_type": "stream",
          "text": [
            "[[5.822312  3.3626842 6.03309  ]\n",
            " [6.0697136 4.4479737 3.609723 ]]\n"
          ],
          "name": "stdout"
        }
      ]
    },
    {
      "metadata": {
        "id": "3HbaMQG1f91V",
        "colab_type": "code",
        "colab": {
          "base_uri": "https://localhost:8080/",
          "height": 53
        },
        "outputId": "7c6e2af1-6387-4c5f-bcd3-41b95b6bda60"
      },
      "cell_type": "code",
      "source": [
        "print(sess.run(B-B))"
      ],
      "execution_count": 99,
      "outputs": [
        {
          "output_type": "stream",
          "text": [
            "[[0. 0. 0.]\n",
            " [0. 0. 0.]]\n"
          ],
          "name": "stdout"
        }
      ]
    },
    {
      "metadata": {
        "id": "ceiVG4DVgBc0",
        "colab_type": "code",
        "colab": {
          "base_uri": "https://localhost:8080/",
          "height": 53
        },
        "outputId": "85a8493b-2e01-4509-b31c-fd73759a2325"
      },
      "cell_type": "code",
      "source": [
        "# Multiplication\n",
        "print(sess.run(tf.matmul(B, identity_matrix)))"
      ],
      "execution_count": 100,
      "outputs": [
        {
          "output_type": "stream",
          "text": [
            "[[5. 5. 5.]\n",
            " [5. 5. 5.]]\n"
          ],
          "name": "stdout"
        }
      ]
    },
    {
      "metadata": {
        "id": "2Z4FdRXNgRk0",
        "colab_type": "code",
        "colab": {
          "base_uri": "https://localhost:8080/",
          "height": 53
        },
        "outputId": "37258328-78b4-4dca-f9f1-662b768545de"
      },
      "cell_type": "code",
      "source": [
        "print(sees.run(tf.transpose(C)))"
      ],
      "execution_count": 101,
      "outputs": [
        {
          "output_type": "stream",
          "text": [
            "[[0.49589837 0.15733337 0.06570482]\n",
            " [0.42138326 0.3855697  0.02410007]]\n"
          ],
          "name": "stdout"
        }
      ]
    },
    {
      "metadata": {
        "id": "R5rE9lg0gaVM",
        "colab_type": "code",
        "colab": {
          "base_uri": "https://localhost:8080/",
          "height": 35
        },
        "outputId": "a3b74628-6a11-4cbe-b9ac-ba6e93574c00"
      },
      "cell_type": "code",
      "source": [
        "# Determinant\n",
        "print(sees.run(tf.matrix_determinant(D)))"
      ],
      "execution_count": 102,
      "outputs": [
        {
          "output_type": "stream",
          "text": [
            "-37.99999999999999\n"
          ],
          "name": "stdout"
        }
      ]
    },
    {
      "metadata": {
        "id": "tgKlvhdqggC6",
        "colab_type": "code",
        "colab": {
          "base_uri": "https://localhost:8080/",
          "height": 71
        },
        "outputId": "92bdead5-428b-4ce7-febf-164b1d413c37"
      },
      "cell_type": "code",
      "source": [
        "# Inverse\n",
        "print(sess.run(tf.matrix_inverse(D)))"
      ],
      "execution_count": 103,
      "outputs": [
        {
          "output_type": "stream",
          "text": [
            "[[-0.5        -0.5        -0.5       ]\n",
            " [ 0.15789474  0.05263158  0.21052632]\n",
            " [ 0.39473684  0.13157895  0.02631579]]\n"
          ],
          "name": "stdout"
        }
      ]
    },
    {
      "metadata": {
        "id": "K_iSjmIHgVYN",
        "colab_type": "code",
        "colab": {
          "base_uri": "https://localhost:8080/",
          "height": 71
        },
        "outputId": "3ba96cc9-9dd5-4d17-b91a-06d53ee7b315"
      },
      "cell_type": "code",
      "source": [
        "# Decompositions\n",
        "print(sees.run(tf.cholesky(identity_matrix)))"
      ],
      "execution_count": 104,
      "outputs": [
        {
          "output_type": "stream",
          "text": [
            "[[1. 0. 0.]\n",
            " [0. 1. 0.]\n",
            " [0. 0. 1.]]\n"
          ],
          "name": "stdout"
        }
      ]
    },
    {
      "metadata": {
        "id": "sjZY-_fEg_w6",
        "colab_type": "code",
        "colab": {
          "base_uri": "https://localhost:8080/",
          "height": 91
        },
        "outputId": "ebc9aa4b-217f-450c-f275-978b568caf82"
      },
      "cell_type": "code",
      "source": [
        "# Eigenvalues and eigenvectors\n",
        "print(sess.run(tf.self_adjoint_eig(D)))"
      ],
      "execution_count": 106,
      "outputs": [
        {
          "output_type": "stream",
          "text": [
            "(array([-10.65907521,  -0.22750691,   2.88658212]), array([[ 0.21749542,  0.63250104, -0.74339638],\n",
            "       [ 0.84526515,  0.2587998 ,  0.46749277],\n",
            "       [-0.4880805 ,  0.73004459,  0.47834331]]))\n"
          ],
          "name": "stdout"
        }
      ]
    },
    {
      "metadata": {
        "id": "uCPVWRbZhaHm",
        "colab_type": "text"
      },
      "cell_type": "markdown",
      "source": [
        "# Declaing Operations"
      ]
    },
    {
      "metadata": {
        "id": "MzasJC9AheWt",
        "colab_type": "code",
        "colab": {}
      },
      "cell_type": "code",
      "source": [
        "import tensorflow as tf\n",
        "sess = tf.Session()"
      ],
      "execution_count": 0,
      "outputs": []
    },
    {
      "metadata": {
        "id": "RrvLMZl2M3fH",
        "colab_type": "code",
        "colab": {
          "base_uri": "https://localhost:8080/",
          "height": 35
        },
        "outputId": "f678def5-0b3e-4136-cab5-40ad9faa96fe"
      },
      "cell_type": "code",
      "source": [
        "from sklearn import datasets\n",
        "iris = datasets.load_iris();\n",
        "print(len(iris.data))"
      ],
      "execution_count": 92,
      "outputs": [
        {
          "output_type": "stream",
          "text": [
            "150\n"
          ],
          "name": "stdout"
        }
      ]
    },
    {
      "metadata": {
        "id": "NyKmHs9uPZkS",
        "colab_type": "code",
        "colab": {
          "base_uri": "https://localhost:8080/",
          "height": 35
        },
        "outputId": "027e7ea7-4dd8-494a-999b-46ff5a53e129"
      },
      "cell_type": "code",
      "source": [
        "print(len(iris.target))"
      ],
      "execution_count": 81,
      "outputs": [
        {
          "output_type": "stream",
          "text": [
            "150\n"
          ],
          "name": "stdout"
        }
      ]
    },
    {
      "metadata": {
        "id": "I3ETHHZrPeWi",
        "colab_type": "code",
        "colab": {
          "base_uri": "https://localhost:8080/",
          "height": 35
        },
        "outputId": "81a91926-bc39-44d8-ff55-598bdb157dbf"
      },
      "cell_type": "code",
      "source": [
        "print(iris.target[0]) # Sepal lenght, Sepal width,Petal length, Petal width"
      ],
      "execution_count": 82,
      "outputs": [
        {
          "output_type": "stream",
          "text": [
            "0\n"
          ],
          "name": "stdout"
        }
      ]
    },
    {
      "metadata": {
        "id": "MPP22t6HQYcn",
        "colab_type": "code",
        "colab": {
          "base_uri": "https://localhost:8080/",
          "height": 35
        },
        "outputId": "8f6bd443-7727-4282-ba74-d6ae5feeb0a0"
      },
      "cell_type": "code",
      "source": [
        "print(set(iris.target)) # I. setosa, I. virginica, I. versicolor"
      ],
      "execution_count": 83,
      "outputs": [
        {
          "output_type": "stream",
          "text": [
            "{0, 1, 2}\n"
          ],
          "name": "stdout"
        }
      ]
    },
    {
      "metadata": {
        "id": "PGzgOchJQy0p",
        "colab_type": "code",
        "colab": {}
      },
      "cell_type": "code",
      "source": [
        ""
      ],
      "execution_count": 0,
      "outputs": []
    },
    {
      "metadata": {
        "id": "PNEUHjt6QwPW",
        "colab_type": "code",
        "colab": {}
      },
      "cell_type": "code",
      "source": [
        ""
      ],
      "execution_count": 0,
      "outputs": []
    }
  ]
}