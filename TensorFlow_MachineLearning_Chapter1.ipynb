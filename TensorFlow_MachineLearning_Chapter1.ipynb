{
  "nbformat": 4,
  "nbformat_minor": 0,
  "metadata": {
    "colab": {
      "name": "TensorFlow_MachineLearning_Chapter1.ipynb",
      "version": "0.3.2",
      "provenance": [],
      "collapsed_sections": [],
      "include_colab_link": true
    },
    "kernelspec": {
      "name": "python3",
      "display_name": "Python 3"
    }
  },
  "cells": [
    {
      "cell_type": "markdown",
      "metadata": {
        "id": "view-in-github",
        "colab_type": "text"
      },
      "source": [
        "[View in Colaboratory](https://colab.research.google.com/github/tanthanadon/TensorFlow_Beginner/blob/master/TensorFlow_MachineLearning_Chapter1.ipynb)"
      ]
    },
    {
      "metadata": {
        "id": "7FzEUpwFRbMt",
        "colab_type": "text"
      },
      "cell_type": "markdown",
      "source": [
        "# **Declaring Tensors**"
      ]
    },
    {
      "metadata": {
        "id": "sDgY8FHRThFL",
        "colab_type": "text"
      },
      "cell_type": "markdown",
      "source": [
        "### Fixed tensors"
      ]
    },
    {
      "metadata": {
        "id": "8cPwLZpsUNu5",
        "colab_type": "code",
        "colab": {}
      },
      "cell_type": "code",
      "source": [
        "import tensorflow as tf\n",
        "import numpy as np\n",
        "row_dim = 3\n",
        "col_dim = 3"
      ],
      "execution_count": 0,
      "outputs": []
    },
    {
      "metadata": {
        "id": "idGLcAVzTfHr",
        "colab_type": "code",
        "colab": {}
      },
      "cell_type": "code",
      "source": [
        "# Create a zero filled tensor\n",
        "zero_tsr = tf.zeros([row_dim, col_dim])\n",
        "# Create one filed tensor\n",
        "ones_tsr = tf.ones([row_dim, col_dim])\n",
        "# Create a constant filled tensor\n",
        "constant_tsr = tf.constant([1, 2, 3])"
      ],
      "execution_count": 0,
      "outputs": []
    },
    {
      "metadata": {
        "id": "XjBCea3WVnkl",
        "colab_type": "text"
      },
      "cell_type": "markdown",
      "source": [
        "### Tensors of similar shape"
      ]
    },
    {
      "metadata": {
        "id": "FsUWLbavV90i",
        "colab_type": "code",
        "colab": {}
      },
      "cell_type": "code",
      "source": [
        "zeros_similar = tf.zeros_like(constant_tsr)\n",
        "ones_similar = tf.ones_like(constant_tsr)"
      ],
      "execution_count": 0,
      "outputs": []
    },
    {
      "metadata": {
        "id": "GNqKJgPyWNhi",
        "colab_type": "text"
      },
      "cell_type": "markdown",
      "source": [
        "### Sequence tensors"
      ]
    },
    {
      "metadata": {
        "id": "ey14KBgzWXPr",
        "colab_type": "code",
        "colab": {}
      },
      "cell_type": "code",
      "source": [
        "# Define intervals with linspace()\n",
        "linear_tsr = tf.linspace(start=0.0, stop=1.0, num=3)\n",
        "# Sequence in range()\n",
        "integer_seq_tsr = tf.range(start=6, limit=15, delta=3)"
      ],
      "execution_count": 0,
      "outputs": []
    },
    {
      "metadata": {
        "id": "DiCDMahQXuyu",
        "colab_type": "text"
      },
      "cell_type": "markdown",
      "source": [
        "### Random Tensors"
      ]
    },
    {
      "metadata": {
        "id": "PZoRGqVvXuPb",
        "colab_type": "code",
        "colab": {}
      },
      "cell_type": "code",
      "source": [
        "# Random numbers from a uniform distribution\n",
        "randunif_tsr = tf.random_uniform([row_dim, col_dim], minval=0, maxval=1)\n",
        "# Random numbers from a normal distribution\n",
        "randnorm_tsr = tf.random_normal([row_dim, col_dim], mean=0.0, stddev=1.0)\n",
        "# Random numbers from two standard deviations of the specified mean\n",
        "runcnorm_tsr = tf.truncated_normal([row_dim, col_dim], mean=0.0, stddev=1.0)\n",
        "# Random numbers from entries of arrays\n",
        "##shuffled_output = tf.random_shuffle(input_tensor)\n",
        "##copped_output = tf.random_crop(input_tensor, crop_size)"
      ],
      "execution_count": 0,
      "outputs": []
    },
    {
      "metadata": {
        "id": "fckUZ32caWDL",
        "colab_type": "text"
      },
      "cell_type": "markdown",
      "source": [
        "# Using Placeholders and Variables"
      ]
    },
    {
      "metadata": {
        "id": "tXVlSNIYaoXF",
        "colab_type": "text"
      },
      "cell_type": "markdown",
      "source": [
        "### How to do it"
      ]
    },
    {
      "metadata": {
        "id": "2iXqe2PmarWU",
        "colab_type": "code",
        "colab": {}
      },
      "cell_type": "code",
      "source": [
        "\n",
        "my_var = tf.Variable(tf.zeros([2,3]))\n",
        "sess = tf.Session()\n",
        "initialize_op = tf.global_variables_initializer ()\n",
        "sess.run(initialize_op)"
      ],
      "execution_count": 0,
      "outputs": []
    },
    {
      "metadata": {
        "id": "KE1VhqbNb568",
        "colab_type": "code",
        "colab": {}
      },
      "cell_type": "code",
      "source": [
        "sees = tf.Session()\n",
        "x = tf.placeholder(tf.float32, shape=[2,2])\n",
        "y = tf.identity(x)\n",
        "x_vals = np.random.rand(2,2)\n",
        "sees.run(y, feed_dict={x: x_vals})\n",
        "# Note that sees.run(x, feed_dict={x: x_vals}) will result in a self referencing error\n",
        "# There's more\n",
        "# Create an operation in the graph that initializes all the variables we have\n",
        "initializer_op = tf.global_variables_initializer ()\n",
        "sess = tf.Session()\n",
        "first_var = tf.Variable(tf.zeros([2,3]))\n",
        "second_var = tf.Variable(tf.zeros_like(first_var))\n",
        "# Depends on first_var\n",
        "sess.run(second_var.initializer)"
      ],
      "execution_count": 0,
      "outputs": []
    },
    {
      "metadata": {
        "id": "j27A72Gtd9n0",
        "colab_type": "text"
      },
      "cell_type": "markdown",
      "source": [
        "# Working with Matrix"
      ]
    },
    {
      "metadata": {
        "id": "RrvLMZl2M3fH",
        "colab_type": "code",
        "colab": {
          "base_uri": "https://localhost:8080/",
          "height": 35
        },
        "outputId": "b53a3021-e39a-4bd1-9b27-c74dc0f94173"
      },
      "cell_type": "code",
      "source": [
        "from sklearn import datasets\n",
        "iris = datasets.load_iris();\n",
        "print(len(iris.data))"
      ],
      "execution_count": 80,
      "outputs": [
        {
          "output_type": "stream",
          "text": [
            "150\n"
          ],
          "name": "stdout"
        }
      ]
    },
    {
      "metadata": {
        "id": "NyKmHs9uPZkS",
        "colab_type": "code",
        "colab": {
          "base_uri": "https://localhost:8080/",
          "height": 35
        },
        "outputId": "027e7ea7-4dd8-494a-999b-46ff5a53e129"
      },
      "cell_type": "code",
      "source": [
        "print(len(iris.target))"
      ],
      "execution_count": 81,
      "outputs": [
        {
          "output_type": "stream",
          "text": [
            "150\n"
          ],
          "name": "stdout"
        }
      ]
    },
    {
      "metadata": {
        "id": "I3ETHHZrPeWi",
        "colab_type": "code",
        "colab": {
          "base_uri": "https://localhost:8080/",
          "height": 35
        },
        "outputId": "81a91926-bc39-44d8-ff55-598bdb157dbf"
      },
      "cell_type": "code",
      "source": [
        "print(iris.target[0]) # Sepal lenght, Sepal width,Petal length, Petal width"
      ],
      "execution_count": 82,
      "outputs": [
        {
          "output_type": "stream",
          "text": [
            "0\n"
          ],
          "name": "stdout"
        }
      ]
    },
    {
      "metadata": {
        "id": "MPP22t6HQYcn",
        "colab_type": "code",
        "colab": {
          "base_uri": "https://localhost:8080/",
          "height": 35
        },
        "outputId": "8f6bd443-7727-4282-ba74-d6ae5feeb0a0"
      },
      "cell_type": "code",
      "source": [
        "print(set(iris.target)) # I. setosa, I. virginica, I. versicolor"
      ],
      "execution_count": 83,
      "outputs": [
        {
          "output_type": "stream",
          "text": [
            "{0, 1, 2}\n"
          ],
          "name": "stdout"
        }
      ]
    },
    {
      "metadata": {
        "id": "PGzgOchJQy0p",
        "colab_type": "code",
        "colab": {}
      },
      "cell_type": "code",
      "source": [
        ""
      ],
      "execution_count": 0,
      "outputs": []
    },
    {
      "metadata": {
        "id": "PNEUHjt6QwPW",
        "colab_type": "code",
        "colab": {}
      },
      "cell_type": "code",
      "source": [
        ""
      ],
      "execution_count": 0,
      "outputs": []
    }
  ]
}